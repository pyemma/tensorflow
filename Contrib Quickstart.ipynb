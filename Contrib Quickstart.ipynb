{
 "cells": [
  {
   "cell_type": "code",
   "execution_count": 1,
   "metadata": {
    "collapsed": true
   },
   "outputs": [],
   "source": [
    "import numpy as np\n",
    "import tensorflow as tf"
   ]
  },
  {
   "cell_type": "code",
   "execution_count": 2,
   "metadata": {
    "collapsed": false
   },
   "outputs": [
    {
     "name": "stdout",
     "output_type": "stream",
     "text": [
      "INFO:tensorflow:Using default config.\n",
      "INFO:tensorflow:Using config: {'_task_type': None, '_task_id': 0, '_cluster_spec': <tensorflow.python.training.server_lib.ClusterSpec object at 0x11f6679e8>, '_master': '', '_num_ps_replicas': 0, '_num_worker_replicas': 0, '_environment': 'local', '_is_chief': True, '_evaluation_master': '', '_tf_config': gpu_options {\n",
      "  per_process_gpu_memory_fraction: 1\n",
      "}\n",
      ", '_tf_random_seed': None, '_save_summary_steps': 100, '_save_checkpoints_secs': 600, '_save_checkpoints_steps': None, '_keep_checkpoint_max': 5, '_keep_checkpoint_every_n_hours': 10000, '_model_dir': None}\n",
      "WARNING:tensorflow:From /Users/peiyang/anaconda/envs/tensorflow/lib/python3.6/site-packages/tensorflow/contrib/learn/python/learn/estimators/head.py:615: scalar_summary (from tensorflow.python.ops.logging_ops) is deprecated and will be removed after 2016-11-30.\n",
      "Instructions for updating:\n",
      "Please switch to tf.summary.scalar. Note that tf.summary.scalar uses the node name instead of the tag. This means that TensorFlow will automatically de-duplicate summary names based on the scope they are created in. Also, passing a tensor or list of tags to a scalar summary op is no longer supported.\n",
      "INFO:tensorflow:Create CheckpointSaverHook.\n",
      "INFO:tensorflow:Saving checkpoints for 1 into ~/iris_model/model.ckpt.\n",
      "INFO:tensorflow:loss = 2.76062, step = 1\n",
      "INFO:tensorflow:global_step/sec: 763.453\n",
      "INFO:tensorflow:loss = 0.388369, step = 101 (0.133 sec)\n",
      "INFO:tensorflow:global_step/sec: 797.454\n",
      "INFO:tensorflow:loss = 0.0987398, step = 201 (0.125 sec)\n",
      "INFO:tensorflow:global_step/sec: 844.703\n",
      "INFO:tensorflow:loss = 0.0743826, step = 301 (0.118 sec)\n",
      "INFO:tensorflow:global_step/sec: 788.625\n",
      "INFO:tensorflow:loss = 0.0646225, step = 401 (0.127 sec)\n",
      "INFO:tensorflow:global_step/sec: 833.611\n",
      "INFO:tensorflow:loss = 0.0585936, step = 501 (0.121 sec)\n",
      "INFO:tensorflow:global_step/sec: 771.664\n",
      "INFO:tensorflow:loss = 0.0542903, step = 601 (0.129 sec)\n",
      "INFO:tensorflow:global_step/sec: 721.183\n",
      "INFO:tensorflow:loss = 0.0508882, step = 701 (0.142 sec)\n",
      "INFO:tensorflow:global_step/sec: 691.18\n",
      "INFO:tensorflow:loss = 0.0482035, step = 801 (0.142 sec)\n",
      "INFO:tensorflow:global_step/sec: 860.275\n",
      "INFO:tensorflow:loss = 0.0460288, step = 901 (0.116 sec)\n",
      "INFO:tensorflow:global_step/sec: 836.751\n",
      "INFO:tensorflow:loss = 0.0442315, step = 1001 (0.121 sec)\n",
      "INFO:tensorflow:global_step/sec: 807.407\n",
      "INFO:tensorflow:loss = 0.0428897, step = 1101 (0.124 sec)\n",
      "INFO:tensorflow:global_step/sec: 812.184\n",
      "INFO:tensorflow:loss = 0.0416469, step = 1201 (0.124 sec)\n",
      "INFO:tensorflow:global_step/sec: 658.774\n",
      "INFO:tensorflow:loss = 0.0406502, step = 1301 (0.150 sec)\n",
      "INFO:tensorflow:global_step/sec: 710.344\n",
      "INFO:tensorflow:loss = 0.0397408, step = 1401 (0.140 sec)\n",
      "INFO:tensorflow:global_step/sec: 858.663\n",
      "INFO:tensorflow:loss = 0.0389974, step = 1501 (0.119 sec)\n",
      "INFO:tensorflow:global_step/sec: 778.755\n",
      "INFO:tensorflow:loss = 0.0382387, step = 1601 (0.125 sec)\n",
      "INFO:tensorflow:global_step/sec: 870.489\n",
      "INFO:tensorflow:loss = 0.0376104, step = 1701 (0.115 sec)\n",
      "INFO:tensorflow:global_step/sec: 902.845\n",
      "INFO:tensorflow:loss = 0.0369829, step = 1801 (0.111 sec)\n",
      "INFO:tensorflow:global_step/sec: 876.523\n",
      "INFO:tensorflow:loss = 0.0364392, step = 1901 (0.114 sec)\n",
      "INFO:tensorflow:Saving checkpoints for 2000 into ~/iris_model/model.ckpt.\n",
      "INFO:tensorflow:Loss for final step: 0.0358179.\n"
     ]
    },
    {
     "data": {
      "text/plain": [
       "DNNClassifier(params={'head': <tensorflow.contrib.learn.python.learn.estimators.head._MultiClassHead object at 0x11ef96e80>, 'hidden_units': [10, 20, 10], 'feature_columns': (_RealValuedColumn(column_name='', dimension=4, default_value=None, dtype=tf.float32, normalizer=None),), 'optimizer': None, 'activation_fn': <function relu at 0x10e040400>, 'dropout': None, 'gradient_clip_norm': None, 'embedding_lr_multipliers': None, 'input_layer_min_slice_size': None})"
      ]
     },
     "execution_count": 2,
     "metadata": {},
     "output_type": "execute_result"
    }
   ],
   "source": [
    "IRIS_TRAINING = 'IRIS_data/iris_training.csv'\n",
    "IRIS_TEST = 'IRIS_data/iris_test.csv'\n",
    "\n",
    "training_set = tf.contrib.learn.datasets.base.load_csv_with_header(\n",
    "    filename=IRIS_TRAINING,\n",
    "    target_dtype=np.int,\n",
    "    features_dtype=np.float32)\n",
    "test_set = tf.contrib.learn.datasets.base.load_csv_with_header(\n",
    "    filename=IRIS_TEST,\n",
    "    target_dtype=np.int,\n",
    "    features_dtype=np.float32)\n",
    "\n",
    "feature_columns = [tf.contrib.layers.real_valued_column(\"\", dimension=4)]\n",
    "\n",
    "classifier = tf.contrib.learn.DNNClassifier(feature_columns=feature_columns, hidden_units=[10, 20, 10], n_classes=3, model_dir=\"~/iris_model\")\n",
    "\n",
    "def get_train_inputs():\n",
    "    x = tf.constant(training_set.data)\n",
    "    y = tf.constant(training_set.target)\n",
    "    \n",
    "    return x, y\n",
    "\n",
    "classifier.fit(input_fn=get_train_inputs, steps=2000)"
   ]
  },
  {
   "cell_type": "code",
   "execution_count": 3,
   "metadata": {
    "collapsed": false
   },
   "outputs": [
    {
     "name": "stdout",
     "output_type": "stream",
     "text": [
      "WARNING:tensorflow:From /Users/peiyang/anaconda/envs/tensorflow/lib/python3.6/site-packages/tensorflow/contrib/learn/python/learn/estimators/head.py:615: scalar_summary (from tensorflow.python.ops.logging_ops) is deprecated and will be removed after 2016-11-30.\n",
      "Instructions for updating:\n",
      "Please switch to tf.summary.scalar. Note that tf.summary.scalar uses the node name instead of the tag. This means that TensorFlow will automatically de-duplicate summary names based on the scope they are created in. Also, passing a tensor or list of tags to a scalar summary op is no longer supported.\n",
      "INFO:tensorflow:Starting evaluation at 2017-05-30-02:13:07\n",
      "INFO:tensorflow:Restoring parameters from ~/iris_model/model.ckpt-2000\n",
      "INFO:tensorflow:Evaluation [1/1]\n",
      "INFO:tensorflow:Finished evaluation at 2017-05-30-02:13:07\n",
      "INFO:tensorflow:Saving dict for global step 2000: accuracy = 0.966667, global_step = 2000, loss = 0.0777767\n",
      "WARNING:tensorflow:Skipping summary for global_step, must be a float or np.float32.\n",
      "\n",
      "Test Accuracy: 0.966667\n",
      "\n"
     ]
    }
   ],
   "source": [
    "def get_test_inputs():\n",
    "    x = tf.constant(test_set.data)\n",
    "    y = tf.constant(test_set.target)\n",
    "    \n",
    "    return x, y\n",
    "\n",
    "accuracy_score = classifier.evaluate(input_fn=get_test_inputs, steps=1)['accuracy']\n",
    "print(\"\\nTest Accuracy: {0:f}\\n\".format(accuracy_score))"
   ]
  },
  {
   "cell_type": "code",
   "execution_count": 5,
   "metadata": {
    "collapsed": false
   },
   "outputs": [
    {
     "name": "stdout",
     "output_type": "stream",
     "text": [
      "INFO:tensorflow:Restoring parameters from ~/iris_model/model.ckpt-2000\n",
      "New Samples, Class Predictions:    [1, 2]\n",
      "\n"
     ]
    }
   ],
   "source": [
    "def new_samples():\n",
    "    return np.array(\n",
    "        [[6.4, 3.2, 4.5, 1.5],\n",
    "         [5.8, 3.1, 5.0, 1.7]], dtype=np.float32)\n",
    "\n",
    "predictions = list(classifier.predict_classes(input_fn=new_samples))\n",
    "\n",
    "print(\n",
    "    \"New Samples, Class Predictions:    {}\\n\"\n",
    "    .format(predictions))"
   ]
  }
 ],
 "metadata": {
  "kernelspec": {
   "display_name": "Python 3",
   "language": "python",
   "name": "python3"
  },
  "language_info": {
   "codemirror_mode": {
    "name": "ipython",
    "version": 3
   },
   "file_extension": ".py",
   "mimetype": "text/x-python",
   "name": "python",
   "nbconvert_exporter": "python",
   "pygments_lexer": "ipython3",
   "version": "3.6.0"
  }
 },
 "nbformat": 4,
 "nbformat_minor": 2
}

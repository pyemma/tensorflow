{
 "cells": [
  {
   "cell_type": "code",
   "execution_count": 11,
   "metadata": {
    "collapsed": true
   },
   "outputs": [],
   "source": [
    "import numpy as np\n",
    "import tensorflow as tf\n",
    "import matplotlib.pyplot as plt\n",
    "\n",
    "ITER = 100\n",
    "BATCH = 10000\n",
    "RANGE = 8"
   ]
  },
  {
   "cell_type": "code",
   "execution_count": 2,
   "metadata": {
    "collapsed": true
   },
   "outputs": [],
   "source": [
    "# Data generate function\n",
    "def real_distribution_sample(N):\n",
    "    samples = np.random.normal(4, 0.5, N)\n",
    "    samples.sort()\n",
    "    return samples\n",
    "\n",
    "def fake_sample(rng, N):\n",
    "    return np.linspace(-rng, rng, N) + np.random.random(N) * 0.01"
   ]
  },
  {
   "cell_type": "code",
   "execution_count": 3,
   "metadata": {
    "collapsed": true
   },
   "outputs": [],
   "source": [
    "# Some helper function to create the model\n",
    "def linear(x, output_dim, scope=None, stddev=1.0):\n",
    "    with tf.variable_scope(scope or 'linear'):\n",
    "        w = tf.get_variable('w', [x.get_shape().as_list()[1], output_dim], initializer=tf.random_normal_initializer(stddev=stddev))\n",
    "        b = tf.get_variable('b', [output_dim], initializer=tf.constant_initializer(0.0))\n",
    "        return tf.matmul(x, w) + b\n",
    "\n",
    "def generator(x, h_dim):\n",
    "    h0 = tf.nn.tanh(linear(x, h_dim * 2, 'g0'))\n",
    "    h1 = tf.nn.tanh(linear(h0, h_dim * 2, 'g1'))\n",
    "    h2 = linear(h1, 1, 'g2')\n",
    "    return h2\n",
    "\n",
    "def discrimiator(x, h_dim):\n",
    "    h0 = tf.tanh(linear(x, h_dim * 2, 'd0'))\n",
    "    h1 = tf.tanh(linear(h0, h_dim * 2, 'd1'))\n",
    "    h2 = tf.sigmoid(linear(h1, 1, 'd2'))\n",
    "    return h2"
   ]
  },
  {
   "cell_type": "code",
   "execution_count": 4,
   "metadata": {
    "collapsed": false
   },
   "outputs": [],
   "source": [
    "with tf.variable_scope('Dpre'):\n",
    "    data = tf.placeholder(dtype=tf.float32, shape=[None, 1])\n",
    "    label = tf.placeholder(dtype=tf.float32, shape=[None, 1])\n",
    "    dis_pre = discrimiator(data, 20)\n",
    "\n",
    "batch_pre = tf.Variable(0)\n",
    "dis_pre_params = tf.get_collection(tf.GraphKeys.TRAINABLE_VARIABLES, scope='Dpre')\n",
    "loss_pre = tf.reduce_mean(tf.square(dis_pre - label))\n",
    "opt_pre = tf.train.GradientDescentOptimizer(0.01).minimize(loss_pre, global_step=batch_pre, var_list=dis_pre_params)"
   ]
  },
  {
   "cell_type": "code",
   "execution_count": 5,
   "metadata": {
    "collapsed": false
   },
   "outputs": [],
   "source": [
    "with tf.variable_scope('Gen'):\n",
    "    fake_x = tf.placeholder(dtype=tf.float32, shape=[None, 1])\n",
    "    gen = generator(fake_x, 20)\n",
    "\n",
    "with tf.variable_scope('Dis') as scope:\n",
    "    x = tf.placeholder(dtype=tf.float32, shape=[None, 1])\n",
    "    dis1 = discrimiator(x, 20)\n",
    "    scope.reuse_variables()\n",
    "    dis2 = discrimiator(gen, 20)\n",
    "\n",
    "batch_d = tf.Variable(0)\n",
    "dis_params = tf.get_collection(tf.GraphKeys.TRAINABLE_VARIABLES, scope='Dis')\n",
    "loss_d = tf.reduce_mean(- tf.log(dis1) - tf.log(1-dis2))\n",
    "opt_d = tf.train.GradientDescentOptimizer(0.001).minimize(loss_d, global_step=batch_d, var_list=dis_params)\n",
    "\n",
    "batch_g = tf.Variable(0)\n",
    "gen_params = tf.get_collection(tf.GraphKeys.TRAINABLE_VARIABLES, scope='Gen')\n",
    "loss_g = tf.reduce_mean(- tf.log(dis2))\n",
    "opt_g = tf.train.GradientDescentOptimizer(0.001).minimize(loss_g, global_step=batch_g, var_list=gen_params)"
   ]
  },
  {
   "cell_type": "code",
   "execution_count": 6,
   "metadata": {
    "collapsed": true
   },
   "outputs": [],
   "source": [
    "sess = tf.InteractiveSession()\n",
    "sess.run(tf.global_variables_initializer())"
   ]
  },
  {
   "cell_type": "code",
   "execution_count": 7,
   "metadata": {
    "collapsed": false
   },
   "outputs": [
    {
     "data": {
      "image/png": "[encoded data removed]",
      "text/plain": [
       "<matplotlib.figure.Figure at 0x1225cdfd0>"
      ]
     },
     "metadata": {},
     "output_type": "display_data"
    }
   ],
   "source": [
    "from scipy.stats import norm\n",
    "\n",
    "pre_losses = []\n",
    "for i in range(1000):\n",
    "    d = (np.random.random(BATCH) - 0.5) * 10.0\n",
    "    y = norm.pdf(d, loc=4, scale=0.5)\n",
    "    pre_loss, _ = sess.run([loss_pre, opt_pre], feed_dict={data: np.reshape(d, (BATCH, 1)), label: np.reshape(y, (BATCH, 1))})\n",
    "    pre_losses.append(pre_loss)\n",
    "plt.plot(pre_losses)\n",
    "plt.show()"
   ]
  },
  {
   "cell_type": "code",
   "execution_count": 8,
   "metadata": {
    "collapsed": false
   },
   "outputs": [
    {
     "name": "stdout",
     "output_type": "stream",
     "text": [
      "6\n",
      "6\n"
     ]
    }
   ],
   "source": [
    "print(len(dis_pre_params))\n",
    "print(len(dis_params))\n",
    "weightsD = sess.run(dis_pre_params)\n",
    "for i, v in enumerate(dis_params):\n",
    "    sess.run(v.assign(weightsD[i]))"
   ]
  },
  {
   "cell_type": "code",
   "execution_count": 12,
   "metadata": {
    "collapsed": false
   },
   "outputs": [
    {
     "name": "stdout",
     "output_type": "stream",
     "text": [
      "Discriminator loss: 0.5138604640960693, generator loss: 1.571937084197998\n",
      "Discriminator loss: 0.5121248364448547, generator loss: 1.5736943483352661\n",
      "Discriminator loss: 0.5104954838752747, generator loss: 1.5747476816177368\n",
      "Discriminator loss: 0.509476363658905, generator loss: 1.5762693881988525\n",
      "Discriminator loss: 0.5079208016395569, generator loss: 1.5781244039535522\n",
      "Discriminator loss: 0.5062747001647949, generator loss: 1.579160213470459\n",
      "Discriminator loss: 0.5042393803596497, generator loss: 1.5812785625457764\n",
      "Discriminator loss: 0.502372145652771, generator loss: 1.5827596187591553\n",
      "Discriminator loss: 0.5010019540786743, generator loss: 1.5841306447982788\n",
      "Discriminator loss: 0.5001207590103149, generator loss: 1.584907054901123\n",
      "Discriminator loss: 0.49860331416130066, generator loss: 1.585955023765564\n",
      "Discriminator loss: 0.49694424867630005, generator loss: 1.5879695415496826\n",
      "Discriminator loss: 0.495042622089386, generator loss: 1.590204119682312\n",
      "Discriminator loss: 0.49358490109443665, generator loss: 1.5909653902053833\n",
      "Discriminator loss: 0.49256566166877747, generator loss: 1.5919054746627808\n",
      "Discriminator loss: 0.4907930791378021, generator loss: 1.5927734375\n",
      "Discriminator loss: 0.48956307768821716, generator loss: 1.5951820611953735\n",
      "Discriminator loss: 0.48829081654548645, generator loss: 1.596289038658142\n",
      "Discriminator loss: 0.48731476068496704, generator loss: 1.5974680185317993\n",
      "Discriminator loss: 0.4857105016708374, generator loss: 1.5989503860473633\n",
      "Discriminator loss: 0.48412051796913147, generator loss: 1.6005314588546753\n",
      "Discriminator loss: 0.4829478859901428, generator loss: 1.602406620979309\n",
      "Discriminator loss: 0.4816938042640686, generator loss: 1.6028927564620972\n",
      "Discriminator loss: 0.4807950556278229, generator loss: 1.6048293113708496\n",
      "Discriminator loss: 0.4790276288986206, generator loss: 1.6059335470199585\n",
      "Discriminator loss: 0.4780522584915161, generator loss: 1.6086468696594238\n",
      "Discriminator loss: 0.47774872183799744, generator loss: 1.6100664138793945\n",
      "Discriminator loss: 0.4756545424461365, generator loss: 1.6108568906784058\n",
      "Discriminator loss: 0.47413554787635803, generator loss: 1.6120896339416504\n",
      "Discriminator loss: 0.47360801696777344, generator loss: 1.6139545440673828\n",
      "Discriminator loss: 0.4721812605857849, generator loss: 1.6157901287078857\n",
      "Discriminator loss: 0.4714464247226715, generator loss: 1.616937518119812\n",
      "Discriminator loss: 0.4703206419944763, generator loss: 1.6184066534042358\n",
      "Discriminator loss: 0.46904686093330383, generator loss: 1.6194827556610107\n",
      "Discriminator loss: 0.46788275241851807, generator loss: 1.621064305305481\n",
      "Discriminator loss: 0.46659940481185913, generator loss: 1.6230812072753906\n",
      "Discriminator loss: 0.46557554602622986, generator loss: 1.6235440969467163\n",
      "Discriminator loss: 0.46472159028053284, generator loss: 1.6260279417037964\n",
      "Discriminator loss: 0.4638655185699463, generator loss: 1.6277027130126953\n",
      "Discriminator loss: 0.4629877805709839, generator loss: 1.6293805837631226\n",
      "Discriminator loss: 0.4619847536087036, generator loss: 1.6303491592407227\n",
      "Discriminator loss: 0.46070146560668945, generator loss: 1.6324125528335571\n",
      "Discriminator loss: 0.46020761132240295, generator loss: 1.634169578552246\n",
      "Discriminator loss: 0.4589735269546509, generator loss: 1.6353925466537476\n",
      "Discriminator loss: 0.4577435553073883, generator loss: 1.636336088180542\n",
      "Discriminator loss: 0.4572129249572754, generator loss: 1.6389487981796265\n",
      "Discriminator loss: 0.4562136232852936, generator loss: 1.64107084274292\n",
      "Discriminator loss: 0.4553479552268982, generator loss: 1.6429569721221924\n",
      "Discriminator loss: 0.4547994136810303, generator loss: 1.6441540718078613\n",
      "Discriminator loss: 0.45367830991744995, generator loss: 1.6451774835586548\n",
      "Discriminator loss: 0.45286619663238525, generator loss: 1.6471072435379028\n",
      "Discriminator loss: 0.45222803950309753, generator loss: 1.6501712799072266\n",
      "Discriminator loss: 0.45105478167533875, generator loss: 1.6517726182937622\n",
      "Discriminator loss: 0.4504272937774658, generator loss: 1.6533151865005493\n",
      "Discriminator loss: 0.44946756958961487, generator loss: 1.6550583839416504\n",
      "Discriminator loss: 0.4489688575267792, generator loss: 1.6565711498260498\n",
      "Discriminator loss: 0.4479038119316101, generator loss: 1.659224033355713\n",
      "Discriminator loss: 0.44687557220458984, generator loss: 1.6602861881256104\n",
      "Discriminator loss: 0.44648197293281555, generator loss: 1.6621695756912231\n",
      "Discriminator loss: 0.4454396963119507, generator loss: 1.6650691032409668\n",
      "Discriminator loss: 0.4450386166572571, generator loss: 1.6665871143341064\n",
      "Discriminator loss: 0.4441887140274048, generator loss: 1.6686965227127075\n",
      "Discriminator loss: 0.4431859254837036, generator loss: 1.6708892583847046\n",
      "Discriminator loss: 0.44278380274772644, generator loss: 1.6734282970428467\n",
      "Discriminator loss: 0.44249892234802246, generator loss: 1.6746675968170166\n",
      "Discriminator loss: 0.4414876401424408, generator loss: 1.6770062446594238\n",
      "Discriminator loss: 0.44057026505470276, generator loss: 1.6790761947631836\n",
      "Discriminator loss: 0.44037148356437683, generator loss: 1.6806398630142212\n",
      "Discriminator loss: 0.4392605423927307, generator loss: 1.6833795309066772\n",
      "Discriminator loss: 0.43975985050201416, generator loss: 1.6859393119812012\n",
      "Discriminator loss: 0.4387235939502716, generator loss: 1.6880910396575928\n",
      "Discriminator loss: 0.4382299780845642, generator loss: 1.6901960372924805\n",
      "Discriminator loss: 0.4368073642253876, generator loss: 1.6928616762161255\n",
      "Discriminator loss: 0.4371086061000824, generator loss: 1.6949628591537476\n",
      "Discriminator loss: 0.4361444413661957, generator loss: 1.6977730989456177\n",
      "Discriminator loss: 0.43582671880722046, generator loss: 1.699360728263855\n",
      "Discriminator loss: 0.4355257749557495, generator loss: 1.702675223350525\n",
      "Discriminator loss: 0.43481460213661194, generator loss: 1.7054308652877808\n",
      "Discriminator loss: 0.4347028434276581, generator loss: 1.70811128616333\n",
      "Discriminator loss: 0.43460986018180847, generator loss: 1.7101870775222778\n",
      "Discriminator loss: 0.43427807092666626, generator loss: 1.7131426334381104\n",
      "Discriminator loss: 0.4338413178920746, generator loss: 1.7156484127044678\n",
      "Discriminator loss: 0.43362870812416077, generator loss: 1.7173664569854736\n",
      "Discriminator loss: 0.4340754449367523, generator loss: 1.7195664644241333\n",
      "Discriminator loss: 0.4340193271636963, generator loss: 1.7219343185424805\n",
      "Discriminator loss: 0.4331105351448059, generator loss: 1.7252928018569946\n",
      "Discriminator loss: 0.43339288234710693, generator loss: 1.72734534740448\n",
      "Discriminator loss: 0.433826744556427, generator loss: 1.729620337486267\n",
      "Discriminator loss: 0.4339657127857208, generator loss: 1.7302716970443726\n",
      "Discriminator loss: 0.43482476472854614, generator loss: 1.7327148914337158\n",
      "Discriminator loss: 0.4346236288547516, generator loss: 1.7350789308547974\n",
      "Discriminator loss: 0.4354472756385803, generator loss: 1.7356663942337036\n",
      "Discriminator loss: 0.4354817271232605, generator loss: 1.7363238334655762\n",
      "Discriminator loss: 0.4366419315338135, generator loss: 1.7388460636138916\n",
      "Discriminator loss: 0.4376159608364105, generator loss: 1.7405791282653809\n",
      "Discriminator loss: 0.4384627342224121, generator loss: 1.7403080463409424\n",
      "Discriminator loss: 0.43916961550712585, generator loss: 1.7409600019454956\n",
      "Discriminator loss: 0.44089534878730774, generator loss: 1.740782380104065\n",
      "Discriminator loss: 0.4423198699951172, generator loss: 1.7409220933914185\n",
      "Discriminator loss: 0.44421568512916565, generator loss: 1.7433781623840332\n"
     ]
    }
   ],
   "source": [
    "# Training step\n",
    "for i in range(0, ITER):\n",
    "    fake = fake_sample(RANGE, BATCH)\n",
    "    real = real_distribution_sample(BATCH)\n",
    "    \n",
    "    dis_loss, _ = sess.run([loss_d, opt_d], feed_dict={fake_x: np.reshape(fake, (BATCH, 1)), x: np.reshape(real, (BATCH, 1))})\n",
    "    gen_loss, _ = sess.run([loss_g, opt_g], feed_dict={fake_x: np.reshape(fake, (BATCH, 1))})\n",
    "    \n",
    "#     if i % 10 == 0:\n",
    "    print(\"Discriminator loss: {}, generator loss: {}\".format(dis_loss, gen_loss))"
   ]
  },
  {
   "cell_type": "code",
   "execution_count": 13,
   "metadata": {
    "collapsed": false
   },
   "outputs": [
    {
     "data": {
      "image/png": "[encoded data removed]",
      "text/plain": [
       "<matplotlib.figure.Figure at 0x122a3fa20>"
      ]
     },
     "metadata": {},
     "output_type": "display_data"
    }
   ],
   "source": [
    "import matplotlib.pyplot as plt\n",
    "# Test step\n",
    "real = real_distribution_sample(BATCH)\n",
    "fake = sess.run(gen, feed_dict={fake_x: np.reshape(np.linspace(-RANGE, RANGE, BATCH), (BATCH, 1))})\n",
    "plt.plot(np.linspace(-RANGE, RANGE, BATCH), real, label='real data')\n",
    "plt.plot(np.linspace(-RANGE, RANGE, BATCH), fake, label='fake data')\n",
    "plt.legend()\n",
    "plt.show()"
   ]
  }
 ],
 "metadata": {
  "kernelspec": {
   "display_name": "Python 3",
   "language": "python",
   "name": "python3"
  },
  "language_info": {
   "codemirror_mode": {
    "name": "ipython",
    "version": 3
   },
   "file_extension": ".py",
   "mimetype": "text/x-python",
   "name": "python",
   "nbconvert_exporter": "python",
   "pygments_lexer": "ipython3",
   "version": "3.6.0"
  }
 },
 "nbformat": 4,
 "nbformat_minor": 2
}

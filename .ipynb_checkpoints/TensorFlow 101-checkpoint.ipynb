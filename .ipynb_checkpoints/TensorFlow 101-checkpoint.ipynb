{
 "cells": [
  {
   "cell_type": "markdown",
   "metadata": {},
   "source": [
    "Basic introduction to *constant*, *placeholder*, *variable*, *optimizer* and *contrib* in TensorFlow"
   ]
  },
  {
   "cell_type": "code",
   "execution_count": 6,
   "metadata": {
    "collapsed": false
   },
   "outputs": [
    {
     "name": "stdout",
     "output_type": "stream",
     "text": [
      "[<tf.Tensor 'Const_4:0' shape=() dtype=float32>, <tf.Tensor 'Const_5:0' shape=() dtype=float32>]\n",
      "[3.0, 4.0]\n",
      "Tensor(\"Add:0\", shape=(), dtype=float32)\n",
      "7.0\n"
     ]
    }
   ],
   "source": [
    "# Basic constant node\n",
    "import tensorflow as tf\n",
    "\n",
    "node1 = tf.constant(3.0)\n",
    "node2 = tf.constant(4.0)\n",
    "print([node1, node2])\n",
    "\n",
    "sess = tf.Session()\n",
    "print(sess.run([node1, node2]))\n",
    "\n",
    "node3 = tf.add(node1, node2)\n",
    "print(node3)\n",
    "print(sess.run(node3))"
   ]
  },
  {
   "cell_type": "code",
   "execution_count": 8,
   "metadata": {
    "collapsed": false
   },
   "outputs": [
    {
     "name": "stdout",
     "output_type": "stream",
     "text": [
      "7.5\n",
      "[ 3.  7.]\n",
      "22.5\n"
     ]
    }
   ],
   "source": [
    "# Basic placeholder node, the content will be guarateed to passed in upon running in session\n",
    "import tensorflow as tf\n",
    "\n",
    "a = tf.placeholder(tf.float32)\n",
    "b = tf.placeholder(tf.float32)\n",
    "adder_node = a + b\n",
    "\n",
    "sess = tf.Session()\n",
    "print(sess.run(adder_node, {a: 3, b: 4.5}))\n",
    "print(sess.run(adder_node, {a: [1, 3], b: [2, 4]}))\n",
    "\n",
    "add_and_triple = adder_node * 3\n",
    "print(sess.run(add_and_triple, {a: 3, b: 4.5}))"
   ]
  },
  {
   "cell_type": "code",
   "execution_count": 13,
   "metadata": {
    "collapsed": false
   },
   "outputs": [
    {
     "name": "stdout",
     "output_type": "stream",
     "text": [
      "[ 0.          0.30000001  0.60000002]\n",
      "23.66\n",
      "0.0\n",
      "[array([-0.9999969], dtype=float32), array([ 0.99999082], dtype=float32)]\n"
     ]
    }
   ],
   "source": [
    "# Basic variable node, which we want to change during the running\n",
    "# Basic optimizer, which will do the actual learning part \n",
    "W = tf.Variable([.3], tf.float32)\n",
    "b = tf.Variable([-.3], tf.float32)\n",
    "x = tf.placeholder(tf.float32)\n",
    "y = tf.placeholder(tf.float32)\n",
    "\n",
    "linear_model = W * x + b\n",
    "squared_deltas = tf.square(linear_model - y)\n",
    "loss = tf.reduce_sum(squared_deltas)\n",
    "\n",
    "init = tf.global_variables_initializer()\n",
    "sess = tf.Session()\n",
    "sess.run(init)\n",
    "print(sess.run(linear_model, {x: [1.0, 2.0, 3.0]}))\n",
    "print(sess.run(loss, {x: [1.0, 2.0, 3.0, 4], y: [0, -1, -2, -3]}))\n",
    "\n",
    "fixW = tf.assign(W, [-1.0])\n",
    "fixb = tf.assign(b, [1.0])\n",
    "sess.run([fixW, fixb])\n",
    "print(sess.run(loss, {x: [1.0, 2.0, 3.0, 4], y: [0, -1, -2, -3]}))\n",
    "\n",
    "optimizer = tf.train.GradientDescentOptimizer(0.01)\n",
    "train = optimizer.minimize(loss)\n",
    "sess.run(init)\n",
    "for i in range(1000):\n",
    "    sess.run(train, {x: [1.0, 2.0, 3.0, 4], y: [0, -1, -2, -3]})\n",
    "print(sess.run([W, b]))"
   ]
  },
  {
   "cell_type": "code",
   "execution_count": 15,
   "metadata": {
    "collapsed": false
   },
   "outputs": [
    {
     "name": "stdout",
     "output_type": "stream",
     "text": [
      "INFO:tensorflow:Using default config.\n",
      "INFO:tensorflow:Using config: {'_task_type': None, '_task_id': 0, '_cluster_spec': <tensorflow.python.training.server_lib.ClusterSpec object at 0x118d7b748>, '_master': '', '_num_ps_replicas': 0, '_num_worker_replicas': 0, '_environment': 'local', '_is_chief': True, '_evaluation_master': '', '_tf_config': gpu_options {\n",
      "  per_process_gpu_memory_fraction: 1\n",
      "}\n",
      ", '_tf_random_seed': None, '_save_summary_steps': 100, '_save_checkpoints_secs': 600, '_save_checkpoints_steps': None, '_keep_checkpoint_max': 5, '_keep_checkpoint_every_n_hours': 10000, '_model_dir': None}\n",
      "WARNING:tensorflow:Using temporary folder as model directory: /var/folders/ln/vp5rgr314xn7zj3xb18lbp2h0000gn/T/tmp0jui9xx8\n",
      "WARNING:tensorflow:Rank of input Tensor (1) should be the same as output_rank (2) for column. Will attempt to expand dims. It is highly recommended that you resize your input, as this behavior may change.\n",
      "WARNING:tensorflow:From /Users/peiyang/anaconda/envs/tensorflow/lib/python3.6/site-packages/tensorflow/contrib/learn/python/learn/estimators/head.py:615: scalar_summary (from tensorflow.python.ops.logging_ops) is deprecated and will be removed after 2016-11-30.\n",
      "Instructions for updating:\n",
      "Please switch to tf.summary.scalar. Note that tf.summary.scalar uses the node name instead of the tag. This means that TensorFlow will automatically de-duplicate summary names based on the scope they are created in. Also, passing a tensor or list of tags to a scalar summary op is no longer supported.\n",
      "INFO:tensorflow:Create CheckpointSaverHook.\n",
      "INFO:tensorflow:Saving checkpoints for 1 into /var/folders/ln/vp5rgr314xn7zj3xb18lbp2h0000gn/T/tmp0jui9xx8/model.ckpt.\n",
      "INFO:tensorflow:loss = 4.5, step = 1\n",
      "INFO:tensorflow:global_step/sec: 950.428\n",
      "INFO:tensorflow:loss = 0.0639543, step = 101 (0.108 sec)\n",
      "INFO:tensorflow:global_step/sec: 1013.41\n",
      "INFO:tensorflow:loss = 0.0307438, step = 201 (0.098 sec)\n",
      "INFO:tensorflow:global_step/sec: 988.328\n",
      "INFO:tensorflow:loss = 0.00543458, step = 301 (0.101 sec)\n",
      "INFO:tensorflow:global_step/sec: 1038.34\n",
      "INFO:tensorflow:loss = 0.0022287, step = 401 (0.096 sec)\n",
      "INFO:tensorflow:global_step/sec: 975.506\n",
      "INFO:tensorflow:loss = 0.000705262, step = 501 (0.103 sec)\n",
      "INFO:tensorflow:global_step/sec: 660.907\n",
      "INFO:tensorflow:loss = 0.000259084, step = 601 (0.152 sec)\n",
      "INFO:tensorflow:global_step/sec: 574.554\n",
      "INFO:tensorflow:loss = 4.75121e-05, step = 701 (0.173 sec)\n",
      "INFO:tensorflow:global_step/sec: 919.219\n",
      "INFO:tensorflow:loss = 7.27534e-06, step = 801 (0.108 sec)\n",
      "INFO:tensorflow:global_step/sec: 1162.58\n",
      "INFO:tensorflow:loss = 9.42906e-06, step = 901 (0.087 sec)\n",
      "INFO:tensorflow:Saving checkpoints for 1000 into /var/folders/ln/vp5rgr314xn7zj3xb18lbp2h0000gn/T/tmp0jui9xx8/model.ckpt.\n",
      "INFO:tensorflow:Loss for final step: 1.58693e-06.\n",
      "WARNING:tensorflow:Rank of input Tensor (1) should be the same as output_rank (2) for column. Will attempt to expand dims. It is highly recommended that you resize your input, as this behavior may change.\n",
      "WARNING:tensorflow:From /Users/peiyang/anaconda/envs/tensorflow/lib/python3.6/site-packages/tensorflow/contrib/learn/python/learn/estimators/head.py:615: scalar_summary (from tensorflow.python.ops.logging_ops) is deprecated and will be removed after 2016-11-30.\n",
      "Instructions for updating:\n",
      "Please switch to tf.summary.scalar. Note that tf.summary.scalar uses the node name instead of the tag. This means that TensorFlow will automatically de-duplicate summary names based on the scope they are created in. Also, passing a tensor or list of tags to a scalar summary op is no longer supported.\n",
      "INFO:tensorflow:Starting evaluation at 2017-05-14-23:27:14\n",
      "INFO:tensorflow:Restoring parameters from /var/folders/ln/vp5rgr314xn7zj3xb18lbp2h0000gn/T/tmp0jui9xx8/model.ckpt-1000\n",
      "INFO:tensorflow:Finished evaluation at 2017-05-14-23:27:14\n",
      "INFO:tensorflow:Saving dict for global step 1000: global_step = 1000, loss = 1.22876e-06\n",
      "WARNING:tensorflow:Skipping summary for global_step, must be a float or np.float32.\n",
      "{'loss': 1.2287577e-06, 'global_step': 1000}\n"
     ]
    }
   ],
   "source": [
    "# Use predefined model inside contrib\n",
    "import numpy as np\n",
    "import tensorflow as tf\n",
    "\n",
    "features = [tf.contrib.layers.real_valued_column(\"x\", dimension=1)]\n",
    "estimator = tf.contrib.learn.LinearRegressor(feature_columns=features)\n",
    "x = np.array([1., 2., 3., 4.])\n",
    "y = np.array([0., -1., -2., -3.])\n",
    "input_fn = tf.contrib.learn.io.numpy_input_fn({\"x\": x}, y, batch_size=4, num_epochs=1000)\n",
    "estimator.fit(input_fn=input_fn, steps=1000)\n",
    "\n",
    "print(estimator.evaluate(input_fn=input_fn))"
   ]
  },
  {
   "cell_type": "code",
   "execution_count": 16,
   "metadata": {
    "collapsed": false
   },
   "outputs": [
    {
     "name": "stdout",
     "output_type": "stream",
     "text": [
      "INFO:tensorflow:Using default config.\n",
      "INFO:tensorflow:Using config: {'_task_type': None, '_task_id': 0, '_cluster_spec': <tensorflow.python.training.server_lib.ClusterSpec object at 0x1194d8630>, '_master': '', '_num_ps_replicas': 0, '_num_worker_replicas': 0, '_environment': 'local', '_is_chief': True, '_evaluation_master': '', '_tf_config': gpu_options {\n",
      "  per_process_gpu_memory_fraction: 1\n",
      "}\n",
      ", '_tf_random_seed': None, '_save_summary_steps': 100, '_save_checkpoints_secs': 600, '_save_checkpoints_steps': None, '_keep_checkpoint_max': 5, '_keep_checkpoint_every_n_hours': 10000, '_model_dir': None}\n",
      "WARNING:tensorflow:Using temporary folder as model directory: /var/folders/ln/vp5rgr314xn7zj3xb18lbp2h0000gn/T/tmpvn_w765p\n",
      "INFO:tensorflow:Create CheckpointSaverHook.\n",
      "INFO:tensorflow:Saving checkpoints for 1 into /var/folders/ln/vp5rgr314xn7zj3xb18lbp2h0000gn/T/tmpvn_w765p/model.ckpt.\n",
      "INFO:tensorflow:loss = 13.2234072401, step = 1\n",
      "INFO:tensorflow:global_step/sec: 952.716\n",
      "INFO:tensorflow:loss = 0.310690477286, step = 101 (0.107 sec)\n",
      "INFO:tensorflow:global_step/sec: 838.539\n",
      "INFO:tensorflow:loss = 0.0262988864508, step = 201 (0.119 sec)\n",
      "INFO:tensorflow:global_step/sec: 904.103\n",
      "INFO:tensorflow:loss = 0.00211613263779, step = 301 (0.110 sec)\n",
      "INFO:tensorflow:global_step/sec: 995.995\n",
      "INFO:tensorflow:loss = 0.000178572689669, step = 401 (0.102 sec)\n",
      "INFO:tensorflow:global_step/sec: 939.946\n",
      "INFO:tensorflow:loss = 3.5263990647e-06, step = 501 (0.106 sec)\n",
      "INFO:tensorflow:global_step/sec: 892.029\n",
      "INFO:tensorflow:loss = 1.11010626955e-06, step = 601 (0.111 sec)\n",
      "INFO:tensorflow:global_step/sec: 789.093\n",
      "INFO:tensorflow:loss = 3.58288030329e-08, step = 701 (0.126 sec)\n",
      "INFO:tensorflow:global_step/sec: 802.632\n",
      "INFO:tensorflow:loss = 1.0152513305e-08, step = 801 (0.124 sec)\n",
      "INFO:tensorflow:global_step/sec: 1125.19\n",
      "INFO:tensorflow:loss = 1.11522628458e-09, step = 901 (0.089 sec)\n",
      "INFO:tensorflow:Saving checkpoints for 1000 into /var/folders/ln/vp5rgr314xn7zj3xb18lbp2h0000gn/T/tmpvn_w765p/model.ckpt.\n",
      "INFO:tensorflow:Loss for final step: 3.68475471854e-11.\n",
      "INFO:tensorflow:Starting evaluation at 2017-05-14-23:39:22\n",
      "INFO:tensorflow:Restoring parameters from /var/folders/ln/vp5rgr314xn7zj3xb18lbp2h0000gn/T/tmpvn_w765p/model.ckpt-1000\n",
      "INFO:tensorflow:Evaluation [1/10]\n",
      "INFO:tensorflow:Evaluation [2/10]\n",
      "INFO:tensorflow:Evaluation [3/10]\n",
      "INFO:tensorflow:Evaluation [4/10]\n",
      "INFO:tensorflow:Evaluation [5/10]\n",
      "INFO:tensorflow:Evaluation [6/10]\n",
      "INFO:tensorflow:Evaluation [7/10]\n",
      "INFO:tensorflow:Evaluation [8/10]\n",
      "INFO:tensorflow:Evaluation [9/10]\n",
      "INFO:tensorflow:Evaluation [10/10]\n",
      "INFO:tensorflow:Finished evaluation at 2017-05-14-23:39:23\n",
      "INFO:tensorflow:Saving dict for global step 1000: global_step = 1000, loss = 4.22814e-11\n",
      "WARNING:tensorflow:Skipping summary for global_step, must be a float or np.float32.\n",
      "{'loss': 4.2281411e-11, 'global_step': 1000}\n"
     ]
    }
   ],
   "source": [
    "# Use contrib to self-define a new model\n",
    "import numpy as np\n",
    "import tensorflow as tf\n",
    "\n",
    "def model(features, labels, mode):\n",
    "    W = tf.get_variable(\"W\", [1], dtype=tf.float64)\n",
    "    b = tf.get_variable(\"b\", [1], dtype=tf.float64)\n",
    "    y = W * features['x'] + b\n",
    "    \n",
    "    loss = tf.reduce_sum(tf.square(labels - y))\n",
    "    global_step = tf.train.get_global_step()\n",
    "    optimizer= tf.train.GradientDescentOptimizer(0.01)\n",
    "    train = tf.group(optimizer.minimize(loss), \n",
    "                     tf.assign_add(global_step, 1))\n",
    "    return tf.contrib.learn.ModelFnOps(\n",
    "        mode=mode, predictions=y, loss=loss, train_op=train)\n",
    "\n",
    "estimator = tf.contrib.learn.Estimator(model_fn=model)\n",
    "x = np.array([1., 2., 3., 4.])\n",
    "y = np.array([0., -1., -2., -3.])\n",
    "input_fn = tf.contrib.learn.io.numpy_input_fn({\"x\": x}, y, batch_size=4, num_epochs=1000)\n",
    "\n",
    "estimator.fit(input_fn=input_fn, steps=1000)\n",
    "print(estimator.evaluate(input_fn=input_fn, steps=10))"
   ]
  }
 ],
 "metadata": {
  "kernelspec": {
   "display_name": "Python 3",
   "language": "python",
   "name": "python3"
  },
  "language_info": {
   "codemirror_mode": {
    "name": "ipython",
    "version": 3
   },
   "file_extension": ".py",
   "mimetype": "text/x-python",
   "name": "python",
   "nbconvert_exporter": "python",
   "pygments_lexer": "ipython3",
   "version": "3.6.0"
  }
 },
 "nbformat": 4,
 "nbformat_minor": 2
}

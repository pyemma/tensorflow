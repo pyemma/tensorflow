{
 "cells": [
  {
   "cell_type": "code",
   "execution_count": 7,
   "metadata": {},
   "outputs": [],
   "source": [
    "import tensorflow as tf\n",
    "import numpy as np\n",
    "import pandas as pd\n",
    "\n",
    "%load_ext autoreload\n",
    "%autoreload 2"
   ]
  },
  {
   "cell_type": "code",
   "execution_count": 2,
   "metadata": {},
   "outputs": [
    {
     "name": "stderr",
     "output_type": "stream",
     "text": [
      "/Users/yangpei/anaconda/lib/python3.6/site-packages/IPython/core/interactiveshell.py:2717: DtypeWarning: Columns (10) have mixed types. Specify dtype option on import or set low_memory=False.\n",
      "  interactivity=interactivity, compiler=compiler, result=result)\n"
     ]
    }
   ],
   "source": [
    "movie_metadata_path = 'the-movies-dataset/movies_metadata.csv'\n",
    "movie_metadata = pd.read_csv(movie_metadata_path)"
   ]
  },
  {
   "cell_type": "code",
   "execution_count": 3,
   "metadata": {},
   "outputs": [
    {
     "name": "stdout",
     "output_type": "stream",
     "text": [
      "9066\n"
     ]
    }
   ],
   "source": [
    "rating_path = 'the-movies-dataset/ratings_small.csv'\n",
    "rating = pd.read_csv(rating_path)\n",
    "user_ids = rating['userId']\n",
    "movie_ids = rating['movieId']\n",
    "ratings = rating['rating']\n",
    "\n",
    "# Reindex the movie ids\n",
    "movie_id_reindex = {}\n",
    "for movie_id in movie_ids:\n",
    "    if movie_id not in movie_id_reindex:\n",
    "        idx = len(movie_id_reindex)\n",
    "        movie_id_reindex[movie_id] = idx\n",
    "\n",
    "training_reindex = []\n",
    "for user_id, movie_id, rating in zip(user_ids, movie_ids, ratings):\n",
    "    training_reindex.append(np.array([user_id, movie_id_reindex[movie_id], rating]))\n",
    "training_reindex = np.array(training_reindex)\n",
    "\n",
    "print(len(movie_id_reindex))"
   ]
  },
  {
   "cell_type": "code",
   "execution_count": 95,
   "metadata": {
    "collapsed": true
   },
   "outputs": [],
   "source": [
    "NUM_MOVIE = 10000\n",
    "NUM_USER = 700\n",
    "EMBEDDING_DIM = 32\n",
    "HIDDEN1_DIM = 128\n",
    "HIDDEN2_DIM = 64\n",
    "\n",
    "tf.reset_default_graph()\n",
    "\n",
    "# Build the model\n",
    "movie_id = tf.placeholder(tf.int32, shape=[None], name='movie_id')\n",
    "user_id = tf.placeholder(tf.int32, shape=[None], name='user_id')\n",
    "rating = tf.placeholder(tf.float32, shape=[None], name='rating')\n",
    "\n",
    "movie_embeddings = tf.get_variable('movie_embeddings', [NUM_MOVIE, EMBEDDING_DIM], initializer=tf.truncated_normal_initializer)\n",
    "user_embeddings = tf.get_variable('user_embeddings', [NUM_USER, EMBEDDING_DIM], initializer=tf.truncated_normal_initializer)\n",
    "\n",
    "embedded_movie_ids = tf.gather(movie_embeddings, movie_id)\n",
    "embedded_user_ids = tf.gather(user_embeddings, user_id)\n",
    "embeddings = tf.concat([embedded_movie_ids, embedded_user_ids], 1)\n",
    "\n",
    "W1 = tf.get_variable('W1', [2*EMBEDDING_DIM, HIDDEN1_DIM], initializer=tf.truncated_normal_initializer)\n",
    "b1 = tf.get_variable('b1', [HIDDEN1_DIM], initializer=tf.constant_initializer(0.1))\n",
    "\n",
    "relu1 = tf.nn.relu(tf.matmul(embeddings, W1) + b1)\n",
    "\n",
    "W2 = tf.get_variable('W2', [HIDDEN1_DIM, HIDDEN2_DIM], initializer=tf.truncated_normal_initializer)\n",
    "b2 = tf.get_variable('b2', [HIDDEN2_DIM], initializer=tf.constant_initializer(0.1))\n",
    "\n",
    "relu2 = tf.nn.relu(tf.matmul(relu1, W2) + b2)\n",
    "\n",
    "W3 = tf.get_variable('W3', [HIDDEN2_DIM, 1], initializer=tf.truncated_normal_initializer)\n",
    "b3 = tf.get_variable('b3', [1], initializer=tf.constant_initializer(0.1))\n",
    "\n",
    "out = tf.matmul(relu2, W3) + b3\n",
    "\n",
    "loss = tf.reduce_mean(tf.squared_difference(out, rating))\n",
    "train = tf.train.RMSPropOptimizer(1e-2).minimize(loss)"
   ]
  },
  {
   "cell_type": "code",
   "execution_count": 96,
   "metadata": {},
   "outputs": [
    {
     "name": "stdout",
     "output_type": "stream",
     "text": [
      "84336.0\n",
      "2882.14\n",
      "412.091\n",
      "258.388\n",
      "59.0594\n",
      "28.8527\n",
      "3.70165\n",
      "1.55997\n",
      "1.40887\n",
      "1.24696\n",
      "1.0738\n",
      "1.12769\n",
      "1.17661\n",
      "1.37838\n",
      "1.2007\n",
      "1.08462\n",
      "1.23563\n",
      "1.08515\n",
      "1.00767\n",
      "1.16868\n"
     ]
    }
   ],
   "source": [
    "import math\n",
    "\n",
    "sess = tf.InteractiveSession()\n",
    "sess.run(tf.global_variables_initializer())\n",
    "\n",
    "num_data = training_reindex.shape[0]\n",
    "num_training = math.ceil(num_data * 0.8)\n",
    "idx = np.arange(num_data)\n",
    "np.random.shuffle(idx)\n",
    "training = training_reindex[idx[:num_training], :]\n",
    "testing = training_reindex[idx[num_training: ], :]\n",
    "\n",
    "NUM_TRAINING_STEP = 2000\n",
    "BATCH_SIZE = 500\n",
    "for i in range(0, NUM_TRAINING_STEP):\n",
    "    batch = training[np.random.choice(num_training, BATCH_SIZE), :]\n",
    "    sess.run(train, feed_dict={movie_id: batch[:, 1].astype(int), user_id: batch[:, 0].astype(int), rating: batch[:, 2]})\n",
    "    \n",
    "    if i % 100 == 0:\n",
    "        print(sess.run(loss, feed_dict={movie_id: batch[:, 1].astype(int), user_id: batch[:, 0].astype(int), rating: batch[:, 2]}))"
   ]
  },
  {
   "cell_type": "code",
   "execution_count": 19,
   "metadata": {},
   "outputs": [
    {
     "name": "stdout",
     "output_type": "stream",
     "text": [
      "60947.6\n",
      "2168.02\n",
      "514.833\n",
      "57.4434\n",
      "9.64513\n",
      "2.32309\n",
      "1.45732\n",
      "1.58789\n",
      "1.38947\n",
      "1.11918\n",
      "1.31885\n",
      "1.26561\n",
      "1.40568\n",
      "1.34647\n",
      "1.03703\n",
      "1.18125\n",
      "1.22656\n",
      "1.28716\n",
      "1.22663\n",
      "1.10302\n"
     ]
    }
   ],
   "source": [
    "from deep_matrix_factorization import DeepMatrixFactorization\n",
    "import math\n",
    "\n",
    "num_data = training_reindex.shape[0]\n",
    "num_training = math.ceil(num_data * 0.8)\n",
    "idx = np.arange(num_data)\n",
    "np.random.shuffle(idx)\n",
    "training = training_reindex[idx[:num_training], :]\n",
    "testing = training_reindex[idx[num_training: ], :]\n",
    "\n",
    "dmf = DeepMatrixFactorization(700, 10000, 32, [128, 64])\n",
    "dmf.learn(training[:, 0], training[:, 1], training[:, 2], 2000, 500)"
   ]
  },
  {
   "cell_type": "code",
   "execution_count": 27,
   "metadata": {},
   "outputs": [],
   "source": [
    "res = dmf.test(testing[:, 0], testing[:, 1], testing[:, 2])"
   ]
  },
  {
   "cell_type": "code",
   "execution_count": 29,
   "metadata": {},
   "outputs": [
    {
     "data": {
      "text/plain": [
       "numpy.float32"
      ]
     },
     "execution_count": 29,
     "metadata": {},
     "output_type": "execute_result"
    }
   ],
   "source": [
    "type(res)"
   ]
  },
  {
   "cell_type": "code",
   "execution_count": 25,
   "metadata": {},
   "outputs": [
    {
     "name": "stdout",
     "output_type": "stream",
     "text": [
      "33.578\n",
      "27.0607\n",
      "20.8241\n",
      "16.8298\n",
      "16.9472\n",
      "13.5734\n",
      "13.0469\n",
      "10.9891\n",
      "8.37956\n",
      "7.16215\n",
      "6.96553\n",
      "5.18535\n",
      "4.35638\n",
      "4.82083\n",
      "3.90566\n",
      "3.89303\n",
      "3.20582\n",
      "2.8931\n",
      "3.03369\n",
      "2.80142\n"
     ]
    }
   ],
   "source": [
    "from matrix_factorization import MatrixFactorization\n",
    "\n",
    "mf = MatrixFactorization(700, 10000, 32)\n",
    "mf.learn(training[:, 0], training[:, 1], training[:, 2], 2000, 500)"
   ]
  },
  {
   "cell_type": "code",
   "execution_count": 26,
   "metadata": {},
   "outputs": [
    {
     "name": "stdout",
     "output_type": "stream",
     "text": [
      "6.20552\n"
     ]
    }
   ],
   "source": [
    "print(mf.test(testing[:, 0], testing[:, 1], testing[:, 2]))"
   ]
  }
 ],
 "metadata": {
  "kernelspec": {
   "display_name": "Python 3",
   "language": "python",
   "name": "python3"
  },
  "language_info": {
   "codemirror_mode": {
    "name": "ipython",
    "version": 3
   },
   "file_extension": ".py",
   "mimetype": "text/x-python",
   "name": "python",
   "nbconvert_exporter": "python",
   "pygments_lexer": "ipython3",
   "version": "3.6.1"
  }
 },
 "nbformat": 4,
 "nbformat_minor": 2
}

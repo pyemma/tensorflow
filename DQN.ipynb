{
 "cells": [
  {
   "cell_type": "code",
   "execution_count": 7,
   "metadata": {
    "collapsed": true
   },
   "outputs": [],
   "source": [
    "import gym\n",
    "import random\n",
    "import tensorflow as tf\n",
    "import numpy as np"
   ]
  },
  {
   "cell_type": "code",
   "execution_count": 2,
   "metadata": {
    "collapsed": true
   },
   "outputs": [],
   "source": [
    "STATE_FEATURE_DIM = 4\n",
    "ACTION_DIM = 2\n",
    "HIDDEN_DIM = 32\n",
    "\n",
    "def build_graph(x, x_):\n",
    "    # Build eval graph\n",
    "    with tf.variable_scope('eval_graph'):\n",
    "        collections = ['eval_graph_param', tf.GraphKeys.GLOBAL_VARIABLES]\n",
    "        with tf.variable_scope(\"input_layer\"):\n",
    "            W1 = tf.get_variable(\n",
    "                'W1', [STATE_FEATURE_DIM, HIDDEN_DIM], initializer=tf.truncated_normal_initializer, \n",
    "                collections=collections)\n",
    "            b1 = tf.get_variable('b1', [HIDDEN_DIM], initializer=tf.constant_initializer(0.1), collections=collections)\n",
    "            relu1 = tf.nn.relu(tf.matmul(x, W1) + b1)\n",
    "\n",
    "        with tf.variable_scope(\"hidden_layer\"):\n",
    "            W2 = tf.get_variable(\n",
    "                'W2', [HIDDEN_DIM, HIDDEN_DIM], initializer=tf.truncated_normal_initializer,\n",
    "                collections=collections)\n",
    "            b2 = tf.get_variable('b2', [HIDDEN_DIM], initializer=tf.constant_initializer(0.1), collections=collections)\n",
    "            relu2 = tf.nn.relu(tf.matmul(relu1, W2) + b2)\n",
    "\n",
    "        with tf.variable_scope(\"output_layer\"):\n",
    "            W3 = tf.get_variable(\n",
    "                'W3', [HIDDEN_DIM, ACTION_DIM], initializer=tf.truncated_normal_initializer,\n",
    "                collections=collections)\n",
    "            b3 = tf.get_variable('b3', [ACTION_DIM], initializer=tf.constant_initializer(0.1), collections=collections)\n",
    "            out = tf.matmul(relu2, W3) + b3\n",
    "    \n",
    "    # Build target graph\n",
    "    with tf.variable_scope('target_graph'):\n",
    "        collections = ['target_graph_param', tf.GraphKeys.GLOBAL_VARIABLES]\n",
    "        with tf.variable_scope(\"input_layer\"):\n",
    "            W1 = tf.get_variable(\n",
    "                'W1', [STATE_FEATURE_DIM, HIDDEN_DIM], initializer=tf.truncated_normal_initializer, \n",
    "                collections=collections)\n",
    "            b1 = tf.get_variable('b1', [HIDDEN_DIM], initializer=tf.constant_initializer(0.1), collections=collections)\n",
    "            relu1 = tf.nn.relu(tf.matmul(x_, W1) + b1)\n",
    "\n",
    "        with tf.variable_scope(\"hidden_layer\"):\n",
    "            W2 = tf.get_variable(\n",
    "                'W2', [HIDDEN_DIM, HIDDEN_DIM], initializer=tf.truncated_normal_initializer,\n",
    "                collections=collections)\n",
    "            b2 = tf.get_variable('b2', [HIDDEN_DIM], initializer=tf.constant_initializer(0.1), collections=collections)\n",
    "            relu2 = tf.nn.relu(tf.matmul(relu1, W2) + b2)\n",
    "\n",
    "        with tf.variable_scope(\"output_layer\"):\n",
    "            W3 = tf.get_variable(\n",
    "                'W3', [HIDDEN_DIM, ACTION_DIM], initializer=tf.truncated_normal_initializer,\n",
    "                collections=collections)\n",
    "            b3 = tf.get_variable('b3', [ACTION_DIM], initializer=tf.constant_initializer(0.1), collections=collections)\n",
    "            out_ = tf.matmul(relu2, W3) + b3\n",
    "    \n",
    "    return out, out_"
   ]
  },
  {
   "cell_type": "code",
   "execution_count": 3,
   "metadata": {
    "collapsed": true
   },
   "outputs": [],
   "source": [
    "def copy_graph_params():\n",
    "    target_graph_param = tf.get_collection(\"target_graph_param\")\n",
    "    eval_graph_param = tf.get_collection(\"eval_graph_param\")\n",
    "    \n",
    "    [tf.assign(t, s) for t, s in zip(target_graph_param, eval_graph_param)]"
   ]
  },
  {
   "cell_type": "code",
   "execution_count": 50,
   "metadata": {},
   "outputs": [
    {
     "name": "stderr",
     "output_type": "stream",
     "text": [
      "[2017-09-26 23:33:25,160] Making new env: CartPole-v0\n"
     ]
    },
    {
     "name": "stdout",
     "output_type": "stream",
     "text": [
      "Current running score is: 12.21\n",
      "Current running score is: 8.24\n",
      "Current running score is: 8.32\n",
      "Current running score is: 8.34\n",
      "Current running score is: 8.30\n",
      "Current running score is: 8.32\n",
      "Current running score is: 8.35\n",
      "Current running score is: 8.26\n",
      "Current running score is: 8.39\n",
      "Current running score is: 8.40\n"
     ]
    }
   ],
   "source": [
    "EPSILON = 0.5\n",
    "EPSILON_DECAY = 0.99\n",
    "EPSILON_MIN = 0.01\n",
    "\n",
    "def action(state, out, x):\n",
    "    if np.random.uniform() < EPSILON:\n",
    "        return np.random.randint(0, 1)\n",
    "    return np.argmax(out.eval(feed_dict={x: state}))\n",
    "\n",
    "def test_action(state, out, x):\n",
    "    return np.argmax(out.eval(feed_dict={x: state}))\n",
    "\n",
    "tf.reset_default_graph()\n",
    "\n",
    "x = tf.placeholder(tf.float32, shape=[None, STATE_FEATURE_DIM], name=\"training_sample\")\n",
    "x_ = tf.placeholder(tf.float32, shape=[None, STATE_FEATURE_DIM], name=\"training_sample_target\")\n",
    "y_ = tf.placeholder(tf.float32, shape=[None, ACTION_DIM], name=\"training_label\")\n",
    "\n",
    "out, out_ = build_graph(x, x_)\n",
    "loss = tf.reduce_mean(tf.squared_difference(out, y_))\n",
    "\n",
    "train_step = tf.train.RMSPropOptimizer(1e-4).minimize(loss)\n",
    "\n",
    "sess = tf.InteractiveSession()\n",
    "sess.run(tf.global_variables_initializer())\n",
    "\n",
    "env = gym.make('CartPole-v0')\n",
    "gamma = 0.9\n",
    "running_loss = 0.0\n",
    "running_score = 0.0\n",
    "num_epsiode = 0\n",
    "MEMORY_SIZE = 10000\n",
    "memory = np.zeros((MEMORY_SIZE, 11))\n",
    "counter = 0\n",
    "scores = []\n",
    "\n",
    "for _ in range(1000):\n",
    "    state = env.reset()\n",
    "    state = np.reshape(state, [1, 4])\n",
    "\n",
    "    for t in range(500):\n",
    "        act = action(state, out, x)\n",
    "\n",
    "        next_state, reward, done, _ = env.step(act)\n",
    "        next_state = np.reshape(next_state, [1, 4])\n",
    "        \n",
    "        ind = counter % MEMORY_SIZE\n",
    "        counter += 1\n",
    "        memory[ind, :] = np.concatenate([state[0], [reward, act, done], next_state[0]])\n",
    "        state = next_state\n",
    "\n",
    "        if done:\n",
    "            running_score += t\n",
    "            scores.append(t)\n",
    "            break\n",
    "\n",
    "        samples = memory[np.random.choice(min(counter, 10000), 32), :]\n",
    "        eval_samples = samples[:, : STATE_FEATURE_DIM]\n",
    "        target_samples = samples[:, -STATE_FEATURE_DIM : ]\n",
    "        eval_labels, target_labels = sess.run([out, out_], feed_dict={x: eval_samples, x_: target_samples})\n",
    "\n",
    "        reward = samples[:, STATE_FEATURE_DIM]\n",
    "        eval_act = samples[:, STATE_FEATURE_DIM+1].astype(int)\n",
    "        done = samples[:, STATE_FEATURE_DIM+2]\n",
    "        q_target = eval_labels.copy()\n",
    "        q_target[np.arange(32), eval_act] = reward + gamma * np.max(target_labels, axis=1) * (1 - done) + done * (-100)\n",
    "\n",
    "        sess.run(train_step, feed_dict={x: eval_samples, y_: q_target})\n",
    "    \n",
    "    num_epsiode += 1\n",
    "    if num_epsiode % 100 == 0:\n",
    "        print(\"Current running score is: %.2f\" % (running_score / 100))\n",
    "        running_score = 0.0\n",
    "    \n",
    "    if EPSILON > EPSILON_MIN:\n",
    "        EPSILON *= EPSILON_DECAY\n",
    "\n",
    "    if num_epsiode % 300 == 0:\n",
    "        copy_graph_params()"
   ]
  },
  {
   "cell_type": "code",
   "execution_count": 41,
   "metadata": {},
   "outputs": [
    {
     "name": "stdout",
     "output_type": "stream",
     "text": [
      "8.2\n"
     ]
    }
   ],
   "source": [
    "total_score = 0.0\n",
    "for _ in range(10):\n",
    "    score = 0.0\n",
    "    state = env.reset()\n",
    "    while True:\n",
    "        env.render()\n",
    "        state = np.reshape(state, [1, 4])\n",
    "        \n",
    "        act = test_action(state, out, x)\n",
    "\n",
    "        next_state, reward, done, _ = env.step(act)\n",
    "        next_state = np.reshape(next_state, [1, 4])\n",
    "        state = next_state\n",
    "        if done:\n",
    "            break\n",
    "        score += reward\n",
    "    total_score += score\n",
    "print(total_score / 10)"
   ]
  },
  {
   "cell_type": "code",
   "execution_count": 53,
   "metadata": {},
   "outputs": [
    {
     "name": "stdout",
     "output_type": "stream",
     "text": [
      "200\n"
     ]
    }
   ],
   "source": [
    "x = tf.Variable(100)\n",
    "y = tf.Variable(200)\n",
    "sess.run(tf.global_variables_initializer())\n",
    "sess.run(tf.assign(x, y))\n",
    "print(x.eval())"
   ]
  }
 ],
 "metadata": {
  "kernelspec": {
   "display_name": "Python 3",
   "language": "python",
   "name": "python3"
  },
  "language_info": {
   "codemirror_mode": {
    "name": "ipython",
    "version": 3
   },
   "file_extension": ".py",
   "mimetype": "text/x-python",
   "name": "python",
   "nbconvert_exporter": "python",
   "pygments_lexer": "ipython3",
   "version": "3.6.1"
  }
 },
 "nbformat": 4,
 "nbformat_minor": 2
}

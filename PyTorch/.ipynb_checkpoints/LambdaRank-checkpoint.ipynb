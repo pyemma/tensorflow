{
 "cells": [
  {
   "cell_type": "code",
   "execution_count": 1,
   "metadata": {
    "collapsed": true
   },
   "outputs": [],
   "source": [
    "import numpy as np\n",
    "import torch\n",
    "import torch.nn as nn\n",
    "from torch.autograd import Function"
   ]
  },
  {
   "cell_type": "code",
   "execution_count": 34,
   "metadata": {
    "collapsed": true
   },
   "outputs": [],
   "source": [
    "scores = np.array([0.1, 0.3, 0.1, 0.2], dtype=np.float).reshape((4, 1))\n",
    "labels = np.array([0, 1, 2, 0], dtype=np.float).reshape((4, 1))"
   ]
  },
  {
   "cell_type": "code",
   "execution_count": 35,
   "metadata": {},
   "outputs": [
    {
     "name": "stdout",
     "output_type": "stream",
     "text": [
      "[[-0.5        -0.549834   -0.5        -0.52497919]\n",
      " [-0.450166   -0.5        -0.450166   -0.47502081]\n",
      " [-0.5        -0.549834   -0.5        -0.52497919]\n",
      " [-0.47502081 -0.52497919 -0.47502081 -0.5       ]]\n",
      "[[-0.         -0.         -0.         -0.        ]\n",
      " [-0.450166   -0.         -0.         -0.47502081]\n",
      " [-0.5        -0.549834   -0.         -0.52497919]\n",
      " [-0.         -0.         -0.         -0.        ]]\n"
     ]
    }
   ],
   "source": [
    "A = np.tile(scores, scores.shape[0])\n",
    "scores_diff = A - A.T\n",
    "\n",
    "B = np.tile(labels, labels.shape[0])\n",
    "labels_diff = B - B.T\n",
    "labels_diff = (labels_diff > 0).astype(np.float)\n",
    "np.fill_diagonal(labels_diff, 0.0)\n",
    "\n",
    "sigmoid_like = -1.0 / (1.0 + np.exp(scores_diff))\n",
    "print(sigmoid_like)\n",
    "print(sigmoid_like * labels_diff)"
   ]
  },
  {
   "cell_type": "code",
   "execution_count": 36,
   "metadata": {},
   "outputs": [
    {
     "name": "stdout",
     "output_type": "stream",
     "text": [
      "5.23832434929\n"
     ]
    }
   ],
   "source": [
    "sorted_labels = labels.copy()\n",
    "sorted_labels[::-1].sort(axis=0)\n",
    "max_dcg = np.sum((np.power(2, sorted_labels) - 1) / np.log(np.arange(sorted_labels.shape[0]) + 2).reshape((sorted_labels.shape[0], 1)))\n",
    "print(max_dcg)"
   ]
  },
  {
   "cell_type": "code",
   "execution_count": 47,
   "metadata": {},
   "outputs": [
    {
     "name": "stdout",
     "output_type": "stream",
     "text": [
      "[[ 0.          0.          0.          0.        ]\n",
      " [ 1.44269504  0.91023923  0.72134752  0.62133493]\n",
      " [ 4.32808512  2.73071768  2.16404256  1.8640048 ]\n",
      " [ 0.          0.          0.          0.        ]]\n",
      "[[ 0.          1.44269504  4.32808512  0.        ]\n",
      " [ 0.          0.91023923  2.73071768  0.        ]\n",
      " [ 0.          0.72134752  2.16404256  0.        ]\n",
      " [ 0.          0.62133493  1.8640048   0.        ]]\n",
      "[[ 0.          0.53245581  2.16404256  0.        ]\n",
      " [ 0.53245581  0.          0.37778341  0.28890429]\n",
      " [ 2.16404256  0.37778341  0.          0.30003776]\n",
      " [ 0.          0.28890429  0.30003776  0.        ]]\n"
     ]
    }
   ],
   "source": [
    "# compute gain by puting label i at position j\n",
    "N = labels.shape[0]\n",
    "DCG = np.tile(np.power(2, labels) - 1, N) / np.tile(np.log(np.arange(N) + 2), (N, 1))\n",
    "print(DCG)\n",
    "\n",
    "DCG_T = DCG.T\n",
    "print(DCG_T)\n",
    "\n",
    "delta_dcg = DCG + DCG_T - np.tile(DCG.diagonal().reshape((N, 1)), N) - np.tile(DCG.diagonal(), (N, 1))\n",
    "delta_dcg = np.abs(delta_dcg)\n",
    "print(delta_dcg)"
   ]
  },
  {
   "cell_type": "code",
   "execution_count": 51,
   "metadata": {},
   "outputs": [
    {
     "name": "stdout",
     "output_type": "stream",
     "text": [
      "[[-0.         -0.         -0.         -0.        ]\n",
      " [-0.04575767 -0.         -0.         -0.02619837]\n",
      " [-0.20655866 -0.03965355 -0.         -0.03006946]\n",
      " [-0.         -0.         -0.         -0.        ]]\n"
     ]
    }
   ],
   "source": [
    "G = sigmoid_like * labels_diff * delta_dcg / max_dcg\n",
    "print(G)"
   ]
  },
  {
   "cell_type": "code",
   "execution_count": 52,
   "metadata": {},
   "outputs": [
    {
     "name": "stdout",
     "output_type": "stream",
     "text": [
      "[ 0.25231633 -0.03230248 -0.27628167  0.05626783]\n"
     ]
    }
   ],
   "source": [
    "gradients = np.sum(G - G.T, axis=1)\n",
    "print(gradients)"
   ]
  },
  {
   "cell_type": "code",
   "execution_count": null,
   "metadata": {
    "collapsed": true
   },
   "outputs": [],
   "source": [
    "class LambdaLoss(Function):\n",
    "    \n",
    "    @staticmethod\n",
    "    def forward(ctx, input, target)"
   ]
  }
 ],
 "metadata": {
  "kernelspec": {
   "display_name": "Python 3",
   "language": "python",
   "name": "python3"
  },
  "language_info": {
   "codemirror_mode": {
    "name": "ipython",
    "version": 3
   },
   "file_extension": ".py",
   "mimetype": "text/x-python",
   "name": "python",
   "nbconvert_exporter": "python",
   "pygments_lexer": "ipython3",
   "version": "3.6.1"
  }
 },
 "nbformat": 4,
 "nbformat_minor": 2
}
